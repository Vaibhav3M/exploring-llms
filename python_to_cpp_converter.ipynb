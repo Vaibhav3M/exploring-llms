{
 "cells": [
  {
   "cell_type": "markdown",
   "id": "1bbfa574-1064-48dd-b529-433d9451e5e3",
   "metadata": {},
   "source": [
    "# This model converts python code to more performant C++ code"
   ]
  },
  {
   "cell_type": "code",
   "execution_count": 1,
   "id": "d58eb61d-c68d-4546-b938-360bcea68467",
   "metadata": {},
   "outputs": [],
   "source": [
    "# imports\n",
    "\n",
    "import os\n",
    "import io\n",
    "import sys\n",
    "from dotenv import load_dotenv\n",
    "from openai import OpenAI\n",
    "import anthropic\n",
    "import subprocess\n",
    "\n",
    "import gradio as gr"
   ]
  },
  {
   "cell_type": "code",
   "execution_count": 2,
   "id": "8832b54c-6a39-4e11-b8ec-06d2c64d8ece",
   "metadata": {},
   "outputs": [],
   "source": [
    "# Initialize\n",
    "\n",
    "load_dotenv()\n",
    "openai_api_key = os.getenv('OPENAI_API_KEY')\n",
    "anthropic_api_key = os.getenv('ANTHROPIC_API_KEY')\n",
    "\n",
    "OPENAI_MODEL = \"gpt-4o-mini\"\n",
    "CLAUDE_MODEL = \"claude-3-5-sonnet-20240620\"\n",
    "\n",
    "openai = OpenAI()\n",
    "claude = anthropic.Anthropic()"
   ]
  },
  {
   "cell_type": "code",
   "execution_count": 3,
   "id": "fd95056e-2b08-4d86-8b19-cc75f79af241",
   "metadata": {},
   "outputs": [],
   "source": [
    "def execute_python(code):\n",
    "        try:\n",
    "            output = io.StringIO()\n",
    "            sys.stdout = output\n",
    "            exec(code)\n",
    "        finally:\n",
    "            sys.stdout = sys.__stdout__\n",
    "        return output.getvalue()"
   ]
  },
  {
   "cell_type": "code",
   "execution_count": 4,
   "id": "8a44878b-0292-4eee-9def-67d064fd0f07",
   "metadata": {},
   "outputs": [],
   "source": [
    "# write to a file called optimized.cpp\n",
    "\n",
    "def write_output(cpp):\n",
    "    code = cpp.replace(\"```cpp\",\"\").replace(\"```\",\"\")\n",
    "    with open(\"assets/optimized.cpp\", \"w\") as f:\n",
    "        f.write(code)"
   ]
  },
  {
   "cell_type": "code",
   "execution_count": 5,
   "id": "c5d4ab22-7dcf-495b-8ef2-e967be03ca66",
   "metadata": {},
   "outputs": [],
   "source": [
    "def execute_cpp(code):\n",
    "        write_output(code)\n",
    "        try:\n",
    "            # compile_cmd = [\"clang++\", \"-Ofast\", \"-std=c++17\", \"-march=armv8.5-a\", \"-mtune=apple-m1\", \"-mcpu=apple-m1\", \"-o\", \"optimized\", \"optimized.cpp\"]\n",
    "            compile_cmd = [\"g++\", \"-std=c++17\", \"-o\", \"assets/optimized\", \"assets/optimized.cpp\"]\n",
    "            compile_result = subprocess.run(compile_cmd, check=True, text=True, capture_output=True)\n",
    "            run_cmd = [\"./assets/optimized\"]\n",
    "            run_result = subprocess.run(run_cmd, check=True, text=True, capture_output=True)\n",
    "            return run_result.stdout\n",
    "        except subprocess.CalledProcessError as e:\n",
    "            return f\"An error occurred:\\n{e.stderr}\""
   ]
  },
  {
   "cell_type": "code",
   "execution_count": 6,
   "id": "9a2e50fe-efd6-46fa-8e7e-ddc1a78db522",
   "metadata": {},
   "outputs": [],
   "source": [
    "system_message = \"\"\"You are an AI assistant specialized in converting Python code to C++ \n",
    "                    while preserving functionality and efficiency. Ensure proper syntax, memory management,\n",
    "                    and performance optimization. Maintain readability and follow C++ best practices.\n",
    "                    Only produce code, no comments\"\"\""
   ]
  },
  {
   "cell_type": "code",
   "execution_count": 7,
   "id": "1d29e07f-529d-4f55-baad-dee611b83db5",
   "metadata": {},
   "outputs": [],
   "source": [
    "\n",
    "def stream_gpt(prompt):\n",
    "    messages = [\n",
    "        {\"role\": \"system\", \"content\": system_message},\n",
    "        {\"role\": \"system\", \"content\": prompt}\n",
    "    ]\n",
    "\n",
    "    stream = openai.chat.completions.create(\n",
    "        model=OPENAI_MODEL,\n",
    "        messages=messages,\n",
    "        stream=True\n",
    "    )\n",
    "    result = \"\"\n",
    "    for chunk in stream:\n",
    "        result += chunk.choices[0].delta.content or \"\"\n",
    "        yield reply"
   ]
  },
  {
   "cell_type": "code",
   "execution_count": 8,
   "id": "3834e206-cad0-4eaa-b5b0-452e6baf291d",
   "metadata": {},
   "outputs": [],
   "source": [
    "def stream_claude(prompt):\n",
    "\n",
    "    result = claude.messages.stream(\n",
    "        model=CLAUDE_MODEL,\n",
    "        max_tokens=2000,\n",
    "        system=system_message,\n",
    "        messages = [\n",
    "            {\"role\":\"user\", \"content\": prompt }\n",
    "        ]\n",
    "    )\n",
    "\n",
    "    reply = \"\"\n",
    "    with result as stream:\n",
    "        for text in stream.text_stream:\n",
    "            reply += text\n",
    "            yield reply\n",
    "        return reply\n",
    "        "
   ]
  },
  {
   "cell_type": "code",
   "execution_count": 9,
   "id": "963f114c-5051-41f8-8a95-52a38e357d0e",
   "metadata": {},
   "outputs": [],
   "source": [
    "def convert_code(model, prompt):\n",
    "    if model == \"GPT\":\n",
    "        result = stream_gpt(prompt)\n",
    "    elif model == \"Claude\":\n",
    "        result = stream_claude(prompt)\n",
    "    else:\n",
    "        raise ValueError(\"Unknown model\")\n",
    "    for stream_so_far in result:\n",
    "        yield stream_so_far\n",
    "    return result"
   ]
  },
  {
   "cell_type": "code",
   "execution_count": 10,
   "id": "1d0859f5-97a8-40ef-b426-c60dcecdd305",
   "metadata": {},
   "outputs": [],
   "source": [
    "# Demo code to calculate value of pi \n",
    "pi = \"\"\"\n",
    "import time\n",
    "\n",
    "def calculate(iterations, param1, param2):\n",
    "    result = 1.0\n",
    "    for i in range(1, iterations+1):\n",
    "        j = i * param1 - param2\n",
    "        result -= (1/j)\n",
    "        j = i * param1 + param2\n",
    "        result += (1/j)\n",
    "    return result\n",
    "\n",
    "start_time = time.time()\n",
    "result = calculate(100_000_000, 4, 1) * 4\n",
    "end_time = time.time()\n",
    "\n",
    "print(f\"Result: {result:.12f}\")\n",
    "print(f\"Execution Time: {(end_time - start_time):.6f} seconds\")\n",
    "\"\"\""
   ]
  },
  {
   "cell_type": "code",
   "execution_count": 11,
   "id": "34915bde-5f5e-460a-ae92-afc3be12b669",
   "metadata": {},
   "outputs": [
    {
     "name": "stdout",
     "output_type": "stream",
     "text": [
      "* Running on local URL:  http://127.0.0.1:7862\n",
      "\n",
      "To create a public link, set `share=True` in `launch()`.\n"
     ]
    },
    {
     "data": {
      "text/html": [
       "<div><iframe src=\"http://127.0.0.1:7862/\" width=\"100%\" height=\"500\" allow=\"autoplay; camera; microphone; clipboard-read; clipboard-write;\" frameborder=\"0\" allowfullscreen></iframe></div>"
      ],
      "text/plain": [
       "<IPython.core.display.HTML object>"
      ]
     },
     "metadata": {},
     "output_type": "display_data"
    },
    {
     "data": {
      "text/plain": []
     },
     "execution_count": 11,
     "metadata": {},
     "output_type": "execute_result"
    }
   ],
   "source": [
    "with gr.Blocks() as ui:\n",
    "    gr.Markdown(\" ## Convert Python code to C++\")\n",
    "    with gr.Row():\n",
    "        python = gr.Textbox(label=\"Enter python code\", value=pi, lines=10)\n",
    "        cpp = gr.Textbox(label=\"C++ code\", lines=10)\n",
    "    with gr.Row():\n",
    "        model = gr.Dropdown([\"GPT\", \"Claude\"], label=\"Select model\", value=\"GPT\")\n",
    "    with gr.Row():\n",
    "        convert = gr.Button(\"Convert code\")\n",
    "    with gr.Row():\n",
    "        run_python = gr.Button(\"Execute Python\")\n",
    "        run_cpp = gr.Button(\"Execute C++\")\n",
    "    with gr.Row():\n",
    "        out_python = gr.TextArea(label=\"Python result\", elem_classes=[\"python\"])\n",
    "        out_cpp = gr.TextArea(label=\"C++ result\", elem_classes=[\"cpp\"])\n",
    "\n",
    "    convert.click(convert_code, inputs=[model, python], outputs=[cpp])\n",
    "    run_python.click(execute_python, inputs=[python], outputs=[out_python])\n",
    "    run_cpp.click(execute_cpp, inputs=[cpp], outputs=[out_cpp])\n",
    "\n",
    "ui.launch(inbrowser=True)"
   ]
  },
  {
   "cell_type": "markdown",
   "id": "6f47985b-cf5f-46d3-9141-26f1b095fbf4",
   "metadata": {},
   "source": [
    "# Sample usage\n",
    "<img src=\"assets/code_converter.png\" width=\"700\" height=\"500\" style=\"display: block;\" />"
   ]
  },
  {
   "cell_type": "code",
   "execution_count": null,
   "id": "bcf85baf-9be5-45fc-86db-95aad155b563",
   "metadata": {},
   "outputs": [],
   "source": []
  }
 ],
 "metadata": {
  "kernelspec": {
   "display_name": "Python 3 (ipykernel)",
   "language": "python",
   "name": "python3"
  },
  "language_info": {
   "codemirror_mode": {
    "name": "ipython",
    "version": 3
   },
   "file_extension": ".py",
   "mimetype": "text/x-python",
   "name": "python",
   "nbconvert_exporter": "python",
   "pygments_lexer": "ipython3",
   "version": "3.11.11"
  }
 },
 "nbformat": 4,
 "nbformat_minor": 5
}
